{
  "metadata": {
    "kernelspec": {
      "language": "python",
      "display_name": "Python 3",
      "name": "python3"
    },
    "language_info": {
      "name": "python",
      "version": "3.10.13",
      "mimetype": "text/x-python",
      "codemirror_mode": {
        "name": "ipython",
        "version": 3
      },
      "pygments_lexer": "ipython3",
      "nbconvert_exporter": "python",
      "file_extension": ".py"
    },
    "kaggle": {
      "accelerator": "none",
      "dataSources": [
        {
          "sourceId": 23498,
          "sourceType": "datasetVersion",
          "datasetId": 310
        }
      ],
      "dockerImageVersionId": 30698,
      "isInternetEnabled": false,
      "language": "python",
      "sourceType": "notebook",
      "isGpuEnabled": false
    },
    "colab": {
      "name": "creditfraud",
      "provenance": [],
      "include_colab_link": true
    }
  },
  "nbformat_minor": 0,
  "nbformat": 4,
  "cells": [
    {
      "cell_type": "markdown",
      "metadata": {
        "id": "view-in-github",
        "colab_type": "text"
      },
      "source": [
        "<a href=\"https://colab.research.google.com/github/Ekta-2201/-Fraud-Transaction-Detection/blob/main/creditfraud.ipynb\" target=\"_parent\"><img src=\"https://colab.research.google.com/assets/colab-badge.svg\" alt=\"Open In Colab\"/></a>"
      ]
    },
    {
      "source": [
        "\n",
        "# IMPORTANT: RUN THIS CELL IN ORDER TO IMPORT YOUR KAGGLE DATA SOURCES\n",
        "# TO THE CORRECT LOCATION (/kaggle/input) IN YOUR NOTEBOOK,\n",
        "# THEN FEEL FREE TO DELETE THIS CELL.\n",
        "# NOTE: THIS NOTEBOOK ENVIRONMENT DIFFERS FROM KAGGLE'S PYTHON\n",
        "# ENVIRONMENT SO THERE MAY BE MISSING LIBRARIES USED BY YOUR\n",
        "# NOTEBOOK.\n",
        "\n",
        "import os\n",
        "import sys\n",
        "from tempfile import NamedTemporaryFile\n",
        "from urllib.request import urlopen\n",
        "from urllib.parse import unquote, urlparse\n",
        "from urllib.error import HTTPError\n",
        "from zipfile import ZipFile\n",
        "import tarfile\n",
        "import shutil\n",
        "\n",
        "CHUNK_SIZE = 40960\n",
        "DATA_SOURCE_MAPPING = 'creditcardfraud:https%3A%2F%2Fstorage.googleapis.com%2Fkaggle-data-sets%2F310%2F23498%2Fbundle%2Farchive.zip%3FX-Goog-Algorithm%3DGOOG4-RSA-SHA256%26X-Goog-Credential%3Dgcp-kaggle-com%2540kaggle-161607.iam.gserviceaccount.com%252F20240603%252Fauto%252Fstorage%252Fgoog4_request%26X-Goog-Date%3D20240603T052651Z%26X-Goog-Expires%3D259200%26X-Goog-SignedHeaders%3Dhost%26X-Goog-Signature%3D14d3c21109f13e02bd84ef70400a60e17c318f6d41a0c13622b0ea0e5afe4603b483de94fe2a5ffc21eb34da1b20a08696c31a0a30c8879e8a0f3e4235e8edfc17b8126378cd20e3ecce5caf93e980b16935573c3e5b92c4c139a2926e20a413e3b27fc1243acd880b5b7ad1f209017e3efcf90f10470cf6770ee0d1d1f09419554557613b1b75d23365fe67647c39556472a1594cb79c5b5b565f84a5a22268af99cda80f405d3ebf6ca2c749033b3cc0cafd887e5c06588b6a1f0a03180621d41469690c9e29031088883b3d96318a3989a6c4f66f42a9289d05fc05213567f804ee1bd49760317e5587ae7ac26b72234feb4c8c5e8689632f09a11755c697'\n",
        "\n",
        "KAGGLE_INPUT_PATH='/kaggle/input'\n",
        "KAGGLE_WORKING_PATH='/kaggle/working'\n",
        "KAGGLE_SYMLINK='kaggle'\n",
        "\n",
        "!umount /kaggle/input/ 2> /dev/null\n",
        "shutil.rmtree('/kaggle/input', ignore_errors=True)\n",
        "os.makedirs(KAGGLE_INPUT_PATH, 0o777, exist_ok=True)\n",
        "os.makedirs(KAGGLE_WORKING_PATH, 0o777, exist_ok=True)\n",
        "\n",
        "try:\n",
        "  os.symlink(KAGGLE_INPUT_PATH, os.path.join(\"..\", 'input'), target_is_directory=True)\n",
        "except FileExistsError:\n",
        "  pass\n",
        "try:\n",
        "  os.symlink(KAGGLE_WORKING_PATH, os.path.join(\"..\", 'working'), target_is_directory=True)\n",
        "except FileExistsError:\n",
        "  pass\n",
        "\n",
        "for data_source_mapping in DATA_SOURCE_MAPPING.split(','):\n",
        "    directory, download_url_encoded = data_source_mapping.split(':')\n",
        "    download_url = unquote(download_url_encoded)\n",
        "    filename = urlparse(download_url).path\n",
        "    destination_path = os.path.join(KAGGLE_INPUT_PATH, directory)\n",
        "    try:\n",
        "        with urlopen(download_url) as fileres, NamedTemporaryFile() as tfile:\n",
        "            total_length = fileres.headers['content-length']\n",
        "            print(f'Downloading {directory}, {total_length} bytes compressed')\n",
        "            dl = 0\n",
        "            data = fileres.read(CHUNK_SIZE)\n",
        "            while len(data) > 0:\n",
        "                dl += len(data)\n",
        "                tfile.write(data)\n",
        "                done = int(50 * dl / int(total_length))\n",
        "                sys.stdout.write(f\"\\r[{'=' * done}{' ' * (50-done)}] {dl} bytes downloaded\")\n",
        "                sys.stdout.flush()\n",
        "                data = fileres.read(CHUNK_SIZE)\n",
        "            if filename.endswith('.zip'):\n",
        "              with ZipFile(tfile) as zfile:\n",
        "                zfile.extractall(destination_path)\n",
        "            else:\n",
        "              with tarfile.open(tfile.name) as tarfile:\n",
        "                tarfile.extractall(destination_path)\n",
        "            print(f'\\nDownloaded and uncompressed: {directory}')\n",
        "    except HTTPError as e:\n",
        "        print(f'Failed to load (likely expired) {download_url} to path {destination_path}')\n",
        "        continue\n",
        "    except OSError as e:\n",
        "        print(f'Failed to load {download_url} to path {destination_path}')\n",
        "        continue\n",
        "\n",
        "print('Data source import complete.')\n"
      ],
      "metadata": {
        "id": "L4xZ899DkH3V"
      },
      "cell_type": "code",
      "outputs": [],
      "execution_count": null
    },
    {
      "cell_type": "code",
      "source": [
        "# This Python 3 environment comes with many helpful analytics libraries installed\n",
        "# It is defined by the kaggle/python Docker image: https://github.com/kaggle/docker-python\n",
        "# For example, here's several helpful packages to load\n",
        "\n",
        "import numpy as np # linear algebra\n",
        "import pandas as pd # data processing, CSV file I/O (e.g. pd.read_csv)\n",
        "\n",
        "# Input data files are available in the read-only \"../input/\" directory\n",
        "# For example, running this (by clicking run or pressing Shift+Enter) will list all files under the input directory\n",
        "\n",
        "import os\n",
        "for dirname, _, filenames in os.walk('/kaggle/input'):\n",
        "    for filename in filenames:\n",
        "        print(os.path.join(dirname, filename))\n",
        "\n",
        "# You can write up to 20GB to the current directory (/kaggle/working/) that gets preserved as output when you create a version using \"Save & Run All\"\n",
        "# You can also write temporary files to /kaggle/temp/, but they won't be saved outside of the current session"
      ],
      "metadata": {
        "_uuid": "8f2839f25d086af736a60e9eeb907d3b93b6e0e5",
        "_cell_guid": "b1076dfc-b9ad-4769-8c92-a6c4dae69d19",
        "execution": {
          "iopub.status.busy": "2024-05-30T16:30:33.558438Z",
          "iopub.execute_input": "2024-05-30T16:30:33.558856Z",
          "iopub.status.idle": "2024-05-30T16:30:33.570324Z",
          "shell.execute_reply.started": "2024-05-30T16:30:33.558828Z",
          "shell.execute_reply": "2024-05-30T16:30:33.569051Z"
        },
        "trusted": true,
        "id": "aJYKVuZakH3X",
        "outputId": "90d6be47-6063-424e-9aae-410b44cf2f13"
      },
      "execution_count": null,
      "outputs": [
        {
          "name": "stdout",
          "text": "/kaggle/input/creditcardfraud/creditcard.csv\n",
          "output_type": "stream"
        }
      ]
    },
    {
      "cell_type": "code",
      "source": [
        "#import libraries\n",
        "import numpy as np\n",
        "import pandas as pd\n",
        "from sklearn.model_selection import train_test_split\n",
        "from sklearn.linear_model import LogisticRegression\n",
        "from sklearn.metrics import accuracy_score\n",
        "from sklearn.metrics import confusion_matrix\n",
        "from sklearn import metrics\n",
        "import matplotlib.pyplot as plt"
      ],
      "metadata": {
        "execution": {
          "iopub.status.busy": "2024-05-30T16:32:19.714218Z",
          "iopub.execute_input": "2024-05-30T16:32:19.714791Z",
          "iopub.status.idle": "2024-05-30T16:32:19.723492Z",
          "shell.execute_reply.started": "2024-05-30T16:32:19.714754Z",
          "shell.execute_reply": "2024-05-30T16:32:19.720691Z"
        },
        "trusted": true,
        "id": "26PFFxaxkH3Y"
      },
      "execution_count": null,
      "outputs": []
    },
    {
      "cell_type": "code",
      "source": [
        "#reading dataset\n",
        "credit_card_data=pd.read_csv('/kaggle/input/creditcardfraud/creditcard.csv')"
      ],
      "metadata": {
        "execution": {
          "iopub.status.busy": "2024-05-30T16:30:33.588207Z",
          "iopub.execute_input": "2024-05-30T16:30:33.589237Z",
          "iopub.status.idle": "2024-05-30T16:30:38.114655Z",
          "shell.execute_reply.started": "2024-05-30T16:30:33.589205Z",
          "shell.execute_reply": "2024-05-30T16:30:38.113434Z"
        },
        "trusted": true,
        "id": "lJjA7ItgkH3Y"
      },
      "execution_count": null,
      "outputs": []
    },
    {
      "cell_type": "code",
      "source": [
        "#first 5 rows of the dataset\n",
        "credit_card_data.head()"
      ],
      "metadata": {
        "execution": {
          "iopub.status.busy": "2024-05-30T16:30:38.116179Z",
          "iopub.execute_input": "2024-05-30T16:30:38.116586Z",
          "iopub.status.idle": "2024-05-30T16:30:38.161409Z",
          "shell.execute_reply.started": "2024-05-30T16:30:38.116548Z",
          "shell.execute_reply": "2024-05-30T16:30:38.160292Z"
        },
        "trusted": true,
        "id": "ISOx2eEMkH3Y",
        "outputId": "9d2f8ccc-e926-42f0-c01b-4cba07f4e492"
      },
      "execution_count": null,
      "outputs": [
        {
          "execution_count": 8,
          "output_type": "execute_result",
          "data": {
            "text/plain": "   Time        V1        V2        V3        V4        V5        V6        V7  \\\n0   0.0 -1.359807 -0.072781  2.536347  1.378155 -0.338321  0.462388  0.239599   \n1   0.0  1.191857  0.266151  0.166480  0.448154  0.060018 -0.082361 -0.078803   \n2   1.0 -1.358354 -1.340163  1.773209  0.379780 -0.503198  1.800499  0.791461   \n3   1.0 -0.966272 -0.185226  1.792993 -0.863291 -0.010309  1.247203  0.237609   \n4   2.0 -1.158233  0.877737  1.548718  0.403034 -0.407193  0.095921  0.592941   \n\n         V8        V9  ...       V21       V22       V23       V24       V25  \\\n0  0.098698  0.363787  ... -0.018307  0.277838 -0.110474  0.066928  0.128539   \n1  0.085102 -0.255425  ... -0.225775 -0.638672  0.101288 -0.339846  0.167170   \n2  0.247676 -1.514654  ...  0.247998  0.771679  0.909412 -0.689281 -0.327642   \n3  0.377436 -1.387024  ... -0.108300  0.005274 -0.190321 -1.175575  0.647376   \n4 -0.270533  0.817739  ... -0.009431  0.798278 -0.137458  0.141267 -0.206010   \n\n        V26       V27       V28  Amount  Class  \n0 -0.189115  0.133558 -0.021053  149.62      0  \n1  0.125895 -0.008983  0.014724    2.69      0  \n2 -0.139097 -0.055353 -0.059752  378.66      0  \n3 -0.221929  0.062723  0.061458  123.50      0  \n4  0.502292  0.219422  0.215153   69.99      0  \n\n[5 rows x 31 columns]",
            "text/html": "<div>\n<style scoped>\n    .dataframe tbody tr th:only-of-type {\n        vertical-align: middle;\n    }\n\n    .dataframe tbody tr th {\n        vertical-align: top;\n    }\n\n    .dataframe thead th {\n        text-align: right;\n    }\n</style>\n<table border=\"1\" class=\"dataframe\">\n  <thead>\n    <tr style=\"text-align: right;\">\n      <th></th>\n      <th>Time</th>\n      <th>V1</th>\n      <th>V2</th>\n      <th>V3</th>\n      <th>V4</th>\n      <th>V5</th>\n      <th>V6</th>\n      <th>V7</th>\n      <th>V8</th>\n      <th>V9</th>\n      <th>...</th>\n      <th>V21</th>\n      <th>V22</th>\n      <th>V23</th>\n      <th>V24</th>\n      <th>V25</th>\n      <th>V26</th>\n      <th>V27</th>\n      <th>V28</th>\n      <th>Amount</th>\n      <th>Class</th>\n    </tr>\n  </thead>\n  <tbody>\n    <tr>\n      <th>0</th>\n      <td>0.0</td>\n      <td>-1.359807</td>\n      <td>-0.072781</td>\n      <td>2.536347</td>\n      <td>1.378155</td>\n      <td>-0.338321</td>\n      <td>0.462388</td>\n      <td>0.239599</td>\n      <td>0.098698</td>\n      <td>0.363787</td>\n      <td>...</td>\n      <td>-0.018307</td>\n      <td>0.277838</td>\n      <td>-0.110474</td>\n      <td>0.066928</td>\n      <td>0.128539</td>\n      <td>-0.189115</td>\n      <td>0.133558</td>\n      <td>-0.021053</td>\n      <td>149.62</td>\n      <td>0</td>\n    </tr>\n    <tr>\n      <th>1</th>\n      <td>0.0</td>\n      <td>1.191857</td>\n      <td>0.266151</td>\n      <td>0.166480</td>\n      <td>0.448154</td>\n      <td>0.060018</td>\n      <td>-0.082361</td>\n      <td>-0.078803</td>\n      <td>0.085102</td>\n      <td>-0.255425</td>\n      <td>...</td>\n      <td>-0.225775</td>\n      <td>-0.638672</td>\n      <td>0.101288</td>\n      <td>-0.339846</td>\n      <td>0.167170</td>\n      <td>0.125895</td>\n      <td>-0.008983</td>\n      <td>0.014724</td>\n      <td>2.69</td>\n      <td>0</td>\n    </tr>\n    <tr>\n      <th>2</th>\n      <td>1.0</td>\n      <td>-1.358354</td>\n      <td>-1.340163</td>\n      <td>1.773209</td>\n      <td>0.379780</td>\n      <td>-0.503198</td>\n      <td>1.800499</td>\n      <td>0.791461</td>\n      <td>0.247676</td>\n      <td>-1.514654</td>\n      <td>...</td>\n      <td>0.247998</td>\n      <td>0.771679</td>\n      <td>0.909412</td>\n      <td>-0.689281</td>\n      <td>-0.327642</td>\n      <td>-0.139097</td>\n      <td>-0.055353</td>\n      <td>-0.059752</td>\n      <td>378.66</td>\n      <td>0</td>\n    </tr>\n    <tr>\n      <th>3</th>\n      <td>1.0</td>\n      <td>-0.966272</td>\n      <td>-0.185226</td>\n      <td>1.792993</td>\n      <td>-0.863291</td>\n      <td>-0.010309</td>\n      <td>1.247203</td>\n      <td>0.237609</td>\n      <td>0.377436</td>\n      <td>-1.387024</td>\n      <td>...</td>\n      <td>-0.108300</td>\n      <td>0.005274</td>\n      <td>-0.190321</td>\n      <td>-1.175575</td>\n      <td>0.647376</td>\n      <td>-0.221929</td>\n      <td>0.062723</td>\n      <td>0.061458</td>\n      <td>123.50</td>\n      <td>0</td>\n    </tr>\n    <tr>\n      <th>4</th>\n      <td>2.0</td>\n      <td>-1.158233</td>\n      <td>0.877737</td>\n      <td>1.548718</td>\n      <td>0.403034</td>\n      <td>-0.407193</td>\n      <td>0.095921</td>\n      <td>0.592941</td>\n      <td>-0.270533</td>\n      <td>0.817739</td>\n      <td>...</td>\n      <td>-0.009431</td>\n      <td>0.798278</td>\n      <td>-0.137458</td>\n      <td>0.141267</td>\n      <td>-0.206010</td>\n      <td>0.502292</td>\n      <td>0.219422</td>\n      <td>0.215153</td>\n      <td>69.99</td>\n      <td>0</td>\n    </tr>\n  </tbody>\n</table>\n<p>5 rows × 31 columns</p>\n</div>"
          },
          "metadata": {}
        }
      ]
    },
    {
      "cell_type": "code",
      "source": [
        "#last 5 rows of dataset\n",
        "credit_card_data.tail()"
      ],
      "metadata": {
        "execution": {
          "iopub.status.busy": "2024-05-30T16:30:38.16438Z",
          "iopub.execute_input": "2024-05-30T16:30:38.164725Z",
          "iopub.status.idle": "2024-05-30T16:30:38.1936Z",
          "shell.execute_reply.started": "2024-05-30T16:30:38.164697Z",
          "shell.execute_reply": "2024-05-30T16:30:38.192375Z"
        },
        "trusted": true,
        "id": "xlMjAeyBkH3Z",
        "outputId": "fcbcb412-08b0-43b7-9903-62767f7c5a7d"
      },
      "execution_count": null,
      "outputs": [
        {
          "execution_count": 9,
          "output_type": "execute_result",
          "data": {
            "text/plain": "            Time         V1         V2        V3        V4        V5  \\\n284802  172786.0 -11.881118  10.071785 -9.834783 -2.066656 -5.364473   \n284803  172787.0  -0.732789  -0.055080  2.035030 -0.738589  0.868229   \n284804  172788.0   1.919565  -0.301254 -3.249640 -0.557828  2.630515   \n284805  172788.0  -0.240440   0.530483  0.702510  0.689799 -0.377961   \n284806  172792.0  -0.533413  -0.189733  0.703337 -0.506271 -0.012546   \n\n              V6        V7        V8        V9  ...       V21       V22  \\\n284802 -2.606837 -4.918215  7.305334  1.914428  ...  0.213454  0.111864   \n284803  1.058415  0.024330  0.294869  0.584800  ...  0.214205  0.924384   \n284804  3.031260 -0.296827  0.708417  0.432454  ...  0.232045  0.578229   \n284805  0.623708 -0.686180  0.679145  0.392087  ...  0.265245  0.800049   \n284806 -0.649617  1.577006 -0.414650  0.486180  ...  0.261057  0.643078   \n\n             V23       V24       V25       V26       V27       V28  Amount  \\\n284802  1.014480 -0.509348  1.436807  0.250034  0.943651  0.823731    0.77   \n284803  0.012463 -1.016226 -0.606624 -0.395255  0.068472 -0.053527   24.79   \n284804 -0.037501  0.640134  0.265745 -0.087371  0.004455 -0.026561   67.88   \n284805 -0.163298  0.123205 -0.569159  0.546668  0.108821  0.104533   10.00   \n284806  0.376777  0.008797 -0.473649 -0.818267 -0.002415  0.013649  217.00   \n\n        Class  \n284802      0  \n284803      0  \n284804      0  \n284805      0  \n284806      0  \n\n[5 rows x 31 columns]",
            "text/html": "<div>\n<style scoped>\n    .dataframe tbody tr th:only-of-type {\n        vertical-align: middle;\n    }\n\n    .dataframe tbody tr th {\n        vertical-align: top;\n    }\n\n    .dataframe thead th {\n        text-align: right;\n    }\n</style>\n<table border=\"1\" class=\"dataframe\">\n  <thead>\n    <tr style=\"text-align: right;\">\n      <th></th>\n      <th>Time</th>\n      <th>V1</th>\n      <th>V2</th>\n      <th>V3</th>\n      <th>V4</th>\n      <th>V5</th>\n      <th>V6</th>\n      <th>V7</th>\n      <th>V8</th>\n      <th>V9</th>\n      <th>...</th>\n      <th>V21</th>\n      <th>V22</th>\n      <th>V23</th>\n      <th>V24</th>\n      <th>V25</th>\n      <th>V26</th>\n      <th>V27</th>\n      <th>V28</th>\n      <th>Amount</th>\n      <th>Class</th>\n    </tr>\n  </thead>\n  <tbody>\n    <tr>\n      <th>284802</th>\n      <td>172786.0</td>\n      <td>-11.881118</td>\n      <td>10.071785</td>\n      <td>-9.834783</td>\n      <td>-2.066656</td>\n      <td>-5.364473</td>\n      <td>-2.606837</td>\n      <td>-4.918215</td>\n      <td>7.305334</td>\n      <td>1.914428</td>\n      <td>...</td>\n      <td>0.213454</td>\n      <td>0.111864</td>\n      <td>1.014480</td>\n      <td>-0.509348</td>\n      <td>1.436807</td>\n      <td>0.250034</td>\n      <td>0.943651</td>\n      <td>0.823731</td>\n      <td>0.77</td>\n      <td>0</td>\n    </tr>\n    <tr>\n      <th>284803</th>\n      <td>172787.0</td>\n      <td>-0.732789</td>\n      <td>-0.055080</td>\n      <td>2.035030</td>\n      <td>-0.738589</td>\n      <td>0.868229</td>\n      <td>1.058415</td>\n      <td>0.024330</td>\n      <td>0.294869</td>\n      <td>0.584800</td>\n      <td>...</td>\n      <td>0.214205</td>\n      <td>0.924384</td>\n      <td>0.012463</td>\n      <td>-1.016226</td>\n      <td>-0.606624</td>\n      <td>-0.395255</td>\n      <td>0.068472</td>\n      <td>-0.053527</td>\n      <td>24.79</td>\n      <td>0</td>\n    </tr>\n    <tr>\n      <th>284804</th>\n      <td>172788.0</td>\n      <td>1.919565</td>\n      <td>-0.301254</td>\n      <td>-3.249640</td>\n      <td>-0.557828</td>\n      <td>2.630515</td>\n      <td>3.031260</td>\n      <td>-0.296827</td>\n      <td>0.708417</td>\n      <td>0.432454</td>\n      <td>...</td>\n      <td>0.232045</td>\n      <td>0.578229</td>\n      <td>-0.037501</td>\n      <td>0.640134</td>\n      <td>0.265745</td>\n      <td>-0.087371</td>\n      <td>0.004455</td>\n      <td>-0.026561</td>\n      <td>67.88</td>\n      <td>0</td>\n    </tr>\n    <tr>\n      <th>284805</th>\n      <td>172788.0</td>\n      <td>-0.240440</td>\n      <td>0.530483</td>\n      <td>0.702510</td>\n      <td>0.689799</td>\n      <td>-0.377961</td>\n      <td>0.623708</td>\n      <td>-0.686180</td>\n      <td>0.679145</td>\n      <td>0.392087</td>\n      <td>...</td>\n      <td>0.265245</td>\n      <td>0.800049</td>\n      <td>-0.163298</td>\n      <td>0.123205</td>\n      <td>-0.569159</td>\n      <td>0.546668</td>\n      <td>0.108821</td>\n      <td>0.104533</td>\n      <td>10.00</td>\n      <td>0</td>\n    </tr>\n    <tr>\n      <th>284806</th>\n      <td>172792.0</td>\n      <td>-0.533413</td>\n      <td>-0.189733</td>\n      <td>0.703337</td>\n      <td>-0.506271</td>\n      <td>-0.012546</td>\n      <td>-0.649617</td>\n      <td>1.577006</td>\n      <td>-0.414650</td>\n      <td>0.486180</td>\n      <td>...</td>\n      <td>0.261057</td>\n      <td>0.643078</td>\n      <td>0.376777</td>\n      <td>0.008797</td>\n      <td>-0.473649</td>\n      <td>-0.818267</td>\n      <td>-0.002415</td>\n      <td>0.013649</td>\n      <td>217.00</td>\n      <td>0</td>\n    </tr>\n  </tbody>\n</table>\n<p>5 rows × 31 columns</p>\n</div>"
          },
          "metadata": {}
        }
      ]
    },
    {
      "cell_type": "code",
      "source": [
        "#dataset information\n",
        "credit_card_data.info()"
      ],
      "metadata": {
        "execution": {
          "iopub.status.busy": "2024-05-30T16:30:38.194882Z",
          "iopub.execute_input": "2024-05-30T16:30:38.195309Z",
          "iopub.status.idle": "2024-05-30T16:30:38.242687Z",
          "shell.execute_reply.started": "2024-05-30T16:30:38.195275Z",
          "shell.execute_reply": "2024-05-30T16:30:38.241518Z"
        },
        "trusted": true,
        "id": "a9SRubsBkH3Z",
        "outputId": "2f23084d-f9c4-4106-9e80-260b52d54033"
      },
      "execution_count": null,
      "outputs": [
        {
          "name": "stdout",
          "text": "<class 'pandas.core.frame.DataFrame'>\nRangeIndex: 284807 entries, 0 to 284806\nData columns (total 31 columns):\n #   Column  Non-Null Count   Dtype  \n---  ------  --------------   -----  \n 0   Time    284807 non-null  float64\n 1   V1      284807 non-null  float64\n 2   V2      284807 non-null  float64\n 3   V3      284807 non-null  float64\n 4   V4      284807 non-null  float64\n 5   V5      284807 non-null  float64\n 6   V6      284807 non-null  float64\n 7   V7      284807 non-null  float64\n 8   V8      284807 non-null  float64\n 9   V9      284807 non-null  float64\n 10  V10     284807 non-null  float64\n 11  V11     284807 non-null  float64\n 12  V12     284807 non-null  float64\n 13  V13     284807 non-null  float64\n 14  V14     284807 non-null  float64\n 15  V15     284807 non-null  float64\n 16  V16     284807 non-null  float64\n 17  V17     284807 non-null  float64\n 18  V18     284807 non-null  float64\n 19  V19     284807 non-null  float64\n 20  V20     284807 non-null  float64\n 21  V21     284807 non-null  float64\n 22  V22     284807 non-null  float64\n 23  V23     284807 non-null  float64\n 24  V24     284807 non-null  float64\n 25  V25     284807 non-null  float64\n 26  V26     284807 non-null  float64\n 27  V27     284807 non-null  float64\n 28  V28     284807 non-null  float64\n 29  Amount  284807 non-null  float64\n 30  Class   284807 non-null  int64  \ndtypes: float64(30), int64(1)\nmemory usage: 67.4 MB\n",
          "output_type": "stream"
        }
      ]
    },
    {
      "cell_type": "code",
      "source": [
        "#checking the number of missing values in each column\n",
        "credit_card_data.isnull().sum()"
      ],
      "metadata": {
        "execution": {
          "iopub.status.busy": "2024-05-30T16:30:38.244158Z",
          "iopub.execute_input": "2024-05-30T16:30:38.245331Z",
          "iopub.status.idle": "2024-05-30T16:30:38.271389Z",
          "shell.execute_reply.started": "2024-05-30T16:30:38.245299Z",
          "shell.execute_reply": "2024-05-30T16:30:38.270472Z"
        },
        "trusted": true,
        "id": "TP4I06ElkH3a",
        "outputId": "3a246322-f81d-45a8-ef3e-edcef91ca4b9"
      },
      "execution_count": null,
      "outputs": [
        {
          "execution_count": 11,
          "output_type": "execute_result",
          "data": {
            "text/plain": "Time      0\nV1        0\nV2        0\nV3        0\nV4        0\nV5        0\nV6        0\nV7        0\nV8        0\nV9        0\nV10       0\nV11       0\nV12       0\nV13       0\nV14       0\nV15       0\nV16       0\nV17       0\nV18       0\nV19       0\nV20       0\nV21       0\nV22       0\nV23       0\nV24       0\nV25       0\nV26       0\nV27       0\nV28       0\nAmount    0\nClass     0\ndtype: int64"
          },
          "metadata": {}
        }
      ]
    },
    {
      "cell_type": "code",
      "source": [
        "#distribution of legit transaction & fraudulent transactions\n",
        "credit_card_data['Class'].value_counts()"
      ],
      "metadata": {
        "execution": {
          "iopub.status.busy": "2024-05-30T16:30:38.272626Z",
          "iopub.execute_input": "2024-05-30T16:30:38.273752Z",
          "iopub.status.idle": "2024-05-30T16:30:38.287676Z",
          "shell.execute_reply.started": "2024-05-30T16:30:38.273719Z",
          "shell.execute_reply": "2024-05-30T16:30:38.286186Z"
        },
        "trusted": true,
        "id": "IYBNj9b7kH3a",
        "outputId": "5b3cbdae-eb41-4939-d766-8ba2fcf24c0e"
      },
      "execution_count": null,
      "outputs": [
        {
          "execution_count": 12,
          "output_type": "execute_result",
          "data": {
            "text/plain": "Class\n0    284315\n1       492\nName: count, dtype: int64"
          },
          "metadata": {}
        }
      ]
    },
    {
      "cell_type": "markdown",
      "source": [
        "This dataset is highly unbalanced\n",
        "\n",
        "0-->Normal transaction\n",
        "1-->fraudulent transaction\n"
      ],
      "metadata": {
        "id": "OI1kw0HlkH3a"
      }
    },
    {
      "cell_type": "code",
      "source": [
        "#seperating the data for analysis\n",
        "legit = credit_card_data[credit_card_data.Class == 0]\n",
        "fraud = credit_card_data[credit_card_data.Class == 1]\n"
      ],
      "metadata": {
        "execution": {
          "iopub.status.busy": "2024-05-30T16:30:38.289716Z",
          "iopub.execute_input": "2024-05-30T16:30:38.29021Z",
          "iopub.status.idle": "2024-05-30T16:30:38.327357Z",
          "shell.execute_reply.started": "2024-05-30T16:30:38.290171Z",
          "shell.execute_reply": "2024-05-30T16:30:38.32519Z"
        },
        "trusted": true,
        "id": "gT0ROJT0kH3c"
      },
      "execution_count": null,
      "outputs": []
    },
    {
      "cell_type": "code",
      "source": [
        "print(legit.shape)\n",
        "print(fraud.shape)"
      ],
      "metadata": {
        "execution": {
          "iopub.status.busy": "2024-05-30T16:30:38.328879Z",
          "iopub.execute_input": "2024-05-30T16:30:38.329247Z",
          "iopub.status.idle": "2024-05-30T16:30:38.335868Z",
          "shell.execute_reply.started": "2024-05-30T16:30:38.329218Z",
          "shell.execute_reply": "2024-05-30T16:30:38.334318Z"
        },
        "trusted": true,
        "id": "MJOorxrOkH3c",
        "outputId": "e1d51594-5d4e-437a-8948-75fa3cf5633a"
      },
      "execution_count": null,
      "outputs": [
        {
          "name": "stdout",
          "text": "(284315, 31)\n(492, 31)\n",
          "output_type": "stream"
        }
      ]
    },
    {
      "cell_type": "code",
      "source": [
        "#statistical measures of the data\n",
        "legit.Amount.describe()"
      ],
      "metadata": {
        "execution": {
          "iopub.status.busy": "2024-05-30T16:30:38.33742Z",
          "iopub.execute_input": "2024-05-30T16:30:38.338394Z",
          "iopub.status.idle": "2024-05-30T16:30:38.369307Z",
          "shell.execute_reply.started": "2024-05-30T16:30:38.338354Z",
          "shell.execute_reply": "2024-05-30T16:30:38.367949Z"
        },
        "trusted": true,
        "id": "xWLLK68xkH3c",
        "outputId": "f76f1731-a1a0-460b-c590-eeda9637d67e"
      },
      "execution_count": null,
      "outputs": [
        {
          "execution_count": 15,
          "output_type": "execute_result",
          "data": {
            "text/plain": "count    284315.000000\nmean         88.291022\nstd         250.105092\nmin           0.000000\n25%           5.650000\n50%          22.000000\n75%          77.050000\nmax       25691.160000\nName: Amount, dtype: float64"
          },
          "metadata": {}
        }
      ]
    },
    {
      "cell_type": "code",
      "source": [
        "fraud.Amount.describe()"
      ],
      "metadata": {
        "execution": {
          "iopub.status.busy": "2024-05-30T16:30:38.371172Z",
          "iopub.execute_input": "2024-05-30T16:30:38.371535Z",
          "iopub.status.idle": "2024-05-30T16:30:38.383576Z",
          "shell.execute_reply.started": "2024-05-30T16:30:38.371507Z",
          "shell.execute_reply": "2024-05-30T16:30:38.38216Z"
        },
        "trusted": true,
        "id": "nzC2bzrikH3d",
        "outputId": "01e0ffb7-003d-446e-9de6-eb4c5f0ce9f6"
      },
      "execution_count": null,
      "outputs": [
        {
          "execution_count": 16,
          "output_type": "execute_result",
          "data": {
            "text/plain": "count     492.000000\nmean      122.211321\nstd       256.683288\nmin         0.000000\n25%         1.000000\n50%         9.250000\n75%       105.890000\nmax      2125.870000\nName: Amount, dtype: float64"
          },
          "metadata": {}
        }
      ]
    },
    {
      "cell_type": "code",
      "source": [
        "#compare the values for both transactions\n",
        "credit_card_data.groupby('Class').mean()"
      ],
      "metadata": {
        "execution": {
          "iopub.status.busy": "2024-05-30T16:30:38.385508Z",
          "iopub.execute_input": "2024-05-30T16:30:38.385944Z",
          "iopub.status.idle": "2024-05-30T16:30:38.592939Z",
          "shell.execute_reply.started": "2024-05-30T16:30:38.385905Z",
          "shell.execute_reply": "2024-05-30T16:30:38.591628Z"
        },
        "trusted": true,
        "id": "Yw2Nm4vnkH3d",
        "outputId": "98a90d3d-f2f9-49b8-8240-019f710ecdde"
      },
      "execution_count": null,
      "outputs": [
        {
          "execution_count": 17,
          "output_type": "execute_result",
          "data": {
            "text/plain": "               Time        V1        V2        V3        V4        V5  \\\nClass                                                                   \n0      94838.202258  0.008258 -0.006271  0.012171 -0.007860  0.005453   \n1      80746.806911 -4.771948  3.623778 -7.033281  4.542029 -3.151225   \n\n             V6        V7        V8        V9  ...       V20       V21  \\\nClass                                          ...                       \n0      0.002419  0.009637 -0.000987  0.004467  ... -0.000644 -0.001235   \n1     -1.397737 -5.568731  0.570636 -2.581123  ...  0.372319  0.713588   \n\n            V22       V23       V24       V25       V26       V27       V28  \\\nClass                                                                         \n0     -0.000024  0.000070  0.000182 -0.000072 -0.000089 -0.000295 -0.000131   \n1      0.014049 -0.040308 -0.105130  0.041449  0.051648  0.170575  0.075667   \n\n           Amount  \nClass              \n0       88.291022  \n1      122.211321  \n\n[2 rows x 30 columns]",
            "text/html": "<div>\n<style scoped>\n    .dataframe tbody tr th:only-of-type {\n        vertical-align: middle;\n    }\n\n    .dataframe tbody tr th {\n        vertical-align: top;\n    }\n\n    .dataframe thead th {\n        text-align: right;\n    }\n</style>\n<table border=\"1\" class=\"dataframe\">\n  <thead>\n    <tr style=\"text-align: right;\">\n      <th></th>\n      <th>Time</th>\n      <th>V1</th>\n      <th>V2</th>\n      <th>V3</th>\n      <th>V4</th>\n      <th>V5</th>\n      <th>V6</th>\n      <th>V7</th>\n      <th>V8</th>\n      <th>V9</th>\n      <th>...</th>\n      <th>V20</th>\n      <th>V21</th>\n      <th>V22</th>\n      <th>V23</th>\n      <th>V24</th>\n      <th>V25</th>\n      <th>V26</th>\n      <th>V27</th>\n      <th>V28</th>\n      <th>Amount</th>\n    </tr>\n    <tr>\n      <th>Class</th>\n      <th></th>\n      <th></th>\n      <th></th>\n      <th></th>\n      <th></th>\n      <th></th>\n      <th></th>\n      <th></th>\n      <th></th>\n      <th></th>\n      <th></th>\n      <th></th>\n      <th></th>\n      <th></th>\n      <th></th>\n      <th></th>\n      <th></th>\n      <th></th>\n      <th></th>\n      <th></th>\n      <th></th>\n    </tr>\n  </thead>\n  <tbody>\n    <tr>\n      <th>0</th>\n      <td>94838.202258</td>\n      <td>0.008258</td>\n      <td>-0.006271</td>\n      <td>0.012171</td>\n      <td>-0.007860</td>\n      <td>0.005453</td>\n      <td>0.002419</td>\n      <td>0.009637</td>\n      <td>-0.000987</td>\n      <td>0.004467</td>\n      <td>...</td>\n      <td>-0.000644</td>\n      <td>-0.001235</td>\n      <td>-0.000024</td>\n      <td>0.000070</td>\n      <td>0.000182</td>\n      <td>-0.000072</td>\n      <td>-0.000089</td>\n      <td>-0.000295</td>\n      <td>-0.000131</td>\n      <td>88.291022</td>\n    </tr>\n    <tr>\n      <th>1</th>\n      <td>80746.806911</td>\n      <td>-4.771948</td>\n      <td>3.623778</td>\n      <td>-7.033281</td>\n      <td>4.542029</td>\n      <td>-3.151225</td>\n      <td>-1.397737</td>\n      <td>-5.568731</td>\n      <td>0.570636</td>\n      <td>-2.581123</td>\n      <td>...</td>\n      <td>0.372319</td>\n      <td>0.713588</td>\n      <td>0.014049</td>\n      <td>-0.040308</td>\n      <td>-0.105130</td>\n      <td>0.041449</td>\n      <td>0.051648</td>\n      <td>0.170575</td>\n      <td>0.075667</td>\n      <td>122.211321</td>\n    </tr>\n  </tbody>\n</table>\n<p>2 rows × 30 columns</p>\n</div>"
          },
          "metadata": {}
        }
      ]
    },
    {
      "cell_type": "markdown",
      "source": [
        "**under-sampling**\n",
        "\n",
        "build a sample dataset containing similar distribution of normal transactions and fraudulent transactions\n",
        "\n",
        "number of fraudulent transactions -->492\n"
      ],
      "metadata": {
        "id": "3wMAcy5MkH3d"
      }
    },
    {
      "cell_type": "code",
      "source": [
        "legit_sample = legit.sample(n=492)"
      ],
      "metadata": {
        "execution": {
          "iopub.status.busy": "2024-05-30T16:30:38.598291Z",
          "iopub.execute_input": "2024-05-30T16:30:38.598917Z",
          "iopub.status.idle": "2024-05-30T16:30:38.61907Z",
          "shell.execute_reply.started": "2024-05-30T16:30:38.598886Z",
          "shell.execute_reply": "2024-05-30T16:30:38.617274Z"
        },
        "trusted": true,
        "id": "aRe41ltykH3e"
      },
      "execution_count": null,
      "outputs": []
    },
    {
      "cell_type": "code",
      "source": [
        "#concatinating two dataframe\n",
        "\n",
        "new_dataset=pd.concat([legit_sample,fraud],axis =0)\n"
      ],
      "metadata": {
        "execution": {
          "iopub.status.busy": "2024-05-30T16:30:38.621308Z",
          "iopub.execute_input": "2024-05-30T16:30:38.622048Z",
          "iopub.status.idle": "2024-05-30T16:30:38.632921Z",
          "shell.execute_reply.started": "2024-05-30T16:30:38.622004Z",
          "shell.execute_reply": "2024-05-30T16:30:38.63142Z"
        },
        "trusted": true,
        "id": "3IHqyxSBkH3e"
      },
      "execution_count": null,
      "outputs": []
    },
    {
      "cell_type": "code",
      "source": [
        "new_dataset.head()"
      ],
      "metadata": {
        "execution": {
          "iopub.status.busy": "2024-05-30T16:30:38.635514Z",
          "iopub.execute_input": "2024-05-30T16:30:38.636113Z",
          "iopub.status.idle": "2024-05-30T16:30:38.668974Z",
          "shell.execute_reply.started": "2024-05-30T16:30:38.636018Z",
          "shell.execute_reply": "2024-05-30T16:30:38.667262Z"
        },
        "trusted": true,
        "id": "Yb9XmNF1kH3e",
        "outputId": "0ad87e0d-2370-4ddb-ae1f-02d32ebaf517"
      },
      "execution_count": null,
      "outputs": [
        {
          "execution_count": 20,
          "output_type": "execute_result",
          "data": {
            "text/plain": "            Time        V1        V2        V3        V4        V5        V6  \\\n26679    34203.0  1.126552 -0.166867  0.609745  0.889403 -0.775220 -0.658661   \n203413  134808.0  2.159517  0.057036 -2.686184  0.374306  0.893817 -1.288217   \n260015  159367.0 -3.142781  3.229451 -2.705464 -0.828898 -0.579780 -1.017716   \n146651   87802.0 -1.937944 -2.952790 -1.719233 -1.281131  1.905859 -1.217766   \n131489   79621.0 -0.261694  0.225469  1.584937 -1.329811 -0.578211 -0.814177   \n\n              V7        V8        V9  ...       V21       V22       V23  \\\n26679  -0.106833 -0.060714  0.658470  ... -0.278799 -0.789557  0.043971   \n203413  0.833758 -0.448480  0.182232  ...  0.219965  0.673255 -0.164270   \n260015 -0.635520  2.156237 -1.530906  ...  0.513009  0.693861 -0.032707   \n146651  1.343122 -0.894213 -0.834981  ... -0.296499  0.208921  0.083544   \n131489  0.580942 -0.284402 -1.548812  ... -0.791914 -1.880726  0.235137   \n\n             V24       V25       V26       V27       V28  Amount  Class  \n26679   0.380580  0.288776  0.178574 -0.030291  0.023768   55.95      0  \n203413  0.515248  0.665902  0.712430 -0.144666 -0.092534   10.00      0  \n260015  0.859705  0.453508  0.586900 -1.055948 -0.137946    0.76      0  \n146651  0.142300 -1.581367 -0.143524  0.581699 -0.149504  494.99      0  \n131489  0.444134 -0.748313  0.406384 -0.311872 -0.190877   28.30      0  \n\n[5 rows x 31 columns]",
            "text/html": "<div>\n<style scoped>\n    .dataframe tbody tr th:only-of-type {\n        vertical-align: middle;\n    }\n\n    .dataframe tbody tr th {\n        vertical-align: top;\n    }\n\n    .dataframe thead th {\n        text-align: right;\n    }\n</style>\n<table border=\"1\" class=\"dataframe\">\n  <thead>\n    <tr style=\"text-align: right;\">\n      <th></th>\n      <th>Time</th>\n      <th>V1</th>\n      <th>V2</th>\n      <th>V3</th>\n      <th>V4</th>\n      <th>V5</th>\n      <th>V6</th>\n      <th>V7</th>\n      <th>V8</th>\n      <th>V9</th>\n      <th>...</th>\n      <th>V21</th>\n      <th>V22</th>\n      <th>V23</th>\n      <th>V24</th>\n      <th>V25</th>\n      <th>V26</th>\n      <th>V27</th>\n      <th>V28</th>\n      <th>Amount</th>\n      <th>Class</th>\n    </tr>\n  </thead>\n  <tbody>\n    <tr>\n      <th>26679</th>\n      <td>34203.0</td>\n      <td>1.126552</td>\n      <td>-0.166867</td>\n      <td>0.609745</td>\n      <td>0.889403</td>\n      <td>-0.775220</td>\n      <td>-0.658661</td>\n      <td>-0.106833</td>\n      <td>-0.060714</td>\n      <td>0.658470</td>\n      <td>...</td>\n      <td>-0.278799</td>\n      <td>-0.789557</td>\n      <td>0.043971</td>\n      <td>0.380580</td>\n      <td>0.288776</td>\n      <td>0.178574</td>\n      <td>-0.030291</td>\n      <td>0.023768</td>\n      <td>55.95</td>\n      <td>0</td>\n    </tr>\n    <tr>\n      <th>203413</th>\n      <td>134808.0</td>\n      <td>2.159517</td>\n      <td>0.057036</td>\n      <td>-2.686184</td>\n      <td>0.374306</td>\n      <td>0.893817</td>\n      <td>-1.288217</td>\n      <td>0.833758</td>\n      <td>-0.448480</td>\n      <td>0.182232</td>\n      <td>...</td>\n      <td>0.219965</td>\n      <td>0.673255</td>\n      <td>-0.164270</td>\n      <td>0.515248</td>\n      <td>0.665902</td>\n      <td>0.712430</td>\n      <td>-0.144666</td>\n      <td>-0.092534</td>\n      <td>10.00</td>\n      <td>0</td>\n    </tr>\n    <tr>\n      <th>260015</th>\n      <td>159367.0</td>\n      <td>-3.142781</td>\n      <td>3.229451</td>\n      <td>-2.705464</td>\n      <td>-0.828898</td>\n      <td>-0.579780</td>\n      <td>-1.017716</td>\n      <td>-0.635520</td>\n      <td>2.156237</td>\n      <td>-1.530906</td>\n      <td>...</td>\n      <td>0.513009</td>\n      <td>0.693861</td>\n      <td>-0.032707</td>\n      <td>0.859705</td>\n      <td>0.453508</td>\n      <td>0.586900</td>\n      <td>-1.055948</td>\n      <td>-0.137946</td>\n      <td>0.76</td>\n      <td>0</td>\n    </tr>\n    <tr>\n      <th>146651</th>\n      <td>87802.0</td>\n      <td>-1.937944</td>\n      <td>-2.952790</td>\n      <td>-1.719233</td>\n      <td>-1.281131</td>\n      <td>1.905859</td>\n      <td>-1.217766</td>\n      <td>1.343122</td>\n      <td>-0.894213</td>\n      <td>-0.834981</td>\n      <td>...</td>\n      <td>-0.296499</td>\n      <td>0.208921</td>\n      <td>0.083544</td>\n      <td>0.142300</td>\n      <td>-1.581367</td>\n      <td>-0.143524</td>\n      <td>0.581699</td>\n      <td>-0.149504</td>\n      <td>494.99</td>\n      <td>0</td>\n    </tr>\n    <tr>\n      <th>131489</th>\n      <td>79621.0</td>\n      <td>-0.261694</td>\n      <td>0.225469</td>\n      <td>1.584937</td>\n      <td>-1.329811</td>\n      <td>-0.578211</td>\n      <td>-0.814177</td>\n      <td>0.580942</td>\n      <td>-0.284402</td>\n      <td>-1.548812</td>\n      <td>...</td>\n      <td>-0.791914</td>\n      <td>-1.880726</td>\n      <td>0.235137</td>\n      <td>0.444134</td>\n      <td>-0.748313</td>\n      <td>0.406384</td>\n      <td>-0.311872</td>\n      <td>-0.190877</td>\n      <td>28.30</td>\n      <td>0</td>\n    </tr>\n  </tbody>\n</table>\n<p>5 rows × 31 columns</p>\n</div>"
          },
          "metadata": {}
        }
      ]
    },
    {
      "cell_type": "code",
      "source": [
        "new_dataset.tail()"
      ],
      "metadata": {
        "execution": {
          "iopub.status.busy": "2024-05-30T16:30:38.671727Z",
          "iopub.execute_input": "2024-05-30T16:30:38.672402Z",
          "iopub.status.idle": "2024-05-30T16:30:38.705833Z",
          "shell.execute_reply.started": "2024-05-30T16:30:38.672354Z",
          "shell.execute_reply": "2024-05-30T16:30:38.70446Z"
        },
        "trusted": true,
        "id": "tjCghd68kH3e",
        "outputId": "bb8c143c-aa1c-4653-e00b-4a6d7f55cb07"
      },
      "execution_count": null,
      "outputs": [
        {
          "execution_count": 21,
          "output_type": "execute_result",
          "data": {
            "text/plain": "            Time        V1        V2        V3        V4        V5        V6  \\\n279863  169142.0 -1.927883  1.125653 -4.518331  1.749293 -1.566487 -2.010494   \n280143  169347.0  1.378559  1.289381 -5.004247  1.411850  0.442581 -1.326536   \n280149  169351.0 -0.676143  1.126366 -2.213700  0.468308 -1.120541 -0.003346   \n281144  169966.0 -3.113832  0.585864 -5.399730  1.817092 -0.840618 -2.943548   \n281674  170348.0  1.991976  0.158476 -2.583441  0.408670  1.151147 -0.096695   \n\n              V7        V8        V9  ...       V21       V22       V23  \\\n279863 -0.882850  0.697211 -2.064945  ...  0.778584 -0.319189  0.639419   \n280143 -1.413170  0.248525 -1.127396  ...  0.370612  0.028234 -0.145640   \n280149 -2.234739  1.210158 -0.652250  ...  0.751826  0.834108  0.190944   \n281144 -2.208002  1.058733 -1.632333  ...  0.583276 -0.269209 -0.456108   \n281674  0.223050 -0.068384  0.577829  ... -0.164350 -0.295135 -0.072173   \n\n             V24       V25       V26       V27       V28  Amount  Class  \n279863 -0.294885  0.537503  0.788395  0.292680  0.147968  390.00      1  \n280143 -0.081049  0.521875  0.739467  0.389152  0.186637    0.76      1  \n280149  0.032070 -0.739695  0.471111  0.385107  0.194361   77.89      1  \n281144 -0.183659 -0.328168  0.606116  0.884876 -0.253700  245.00      1  \n281674 -0.450261  0.313267 -0.289617  0.002988 -0.015309   42.53      1  \n\n[5 rows x 31 columns]",
            "text/html": "<div>\n<style scoped>\n    .dataframe tbody tr th:only-of-type {\n        vertical-align: middle;\n    }\n\n    .dataframe tbody tr th {\n        vertical-align: top;\n    }\n\n    .dataframe thead th {\n        text-align: right;\n    }\n</style>\n<table border=\"1\" class=\"dataframe\">\n  <thead>\n    <tr style=\"text-align: right;\">\n      <th></th>\n      <th>Time</th>\n      <th>V1</th>\n      <th>V2</th>\n      <th>V3</th>\n      <th>V4</th>\n      <th>V5</th>\n      <th>V6</th>\n      <th>V7</th>\n      <th>V8</th>\n      <th>V9</th>\n      <th>...</th>\n      <th>V21</th>\n      <th>V22</th>\n      <th>V23</th>\n      <th>V24</th>\n      <th>V25</th>\n      <th>V26</th>\n      <th>V27</th>\n      <th>V28</th>\n      <th>Amount</th>\n      <th>Class</th>\n    </tr>\n  </thead>\n  <tbody>\n    <tr>\n      <th>279863</th>\n      <td>169142.0</td>\n      <td>-1.927883</td>\n      <td>1.125653</td>\n      <td>-4.518331</td>\n      <td>1.749293</td>\n      <td>-1.566487</td>\n      <td>-2.010494</td>\n      <td>-0.882850</td>\n      <td>0.697211</td>\n      <td>-2.064945</td>\n      <td>...</td>\n      <td>0.778584</td>\n      <td>-0.319189</td>\n      <td>0.639419</td>\n      <td>-0.294885</td>\n      <td>0.537503</td>\n      <td>0.788395</td>\n      <td>0.292680</td>\n      <td>0.147968</td>\n      <td>390.00</td>\n      <td>1</td>\n    </tr>\n    <tr>\n      <th>280143</th>\n      <td>169347.0</td>\n      <td>1.378559</td>\n      <td>1.289381</td>\n      <td>-5.004247</td>\n      <td>1.411850</td>\n      <td>0.442581</td>\n      <td>-1.326536</td>\n      <td>-1.413170</td>\n      <td>0.248525</td>\n      <td>-1.127396</td>\n      <td>...</td>\n      <td>0.370612</td>\n      <td>0.028234</td>\n      <td>-0.145640</td>\n      <td>-0.081049</td>\n      <td>0.521875</td>\n      <td>0.739467</td>\n      <td>0.389152</td>\n      <td>0.186637</td>\n      <td>0.76</td>\n      <td>1</td>\n    </tr>\n    <tr>\n      <th>280149</th>\n      <td>169351.0</td>\n      <td>-0.676143</td>\n      <td>1.126366</td>\n      <td>-2.213700</td>\n      <td>0.468308</td>\n      <td>-1.120541</td>\n      <td>-0.003346</td>\n      <td>-2.234739</td>\n      <td>1.210158</td>\n      <td>-0.652250</td>\n      <td>...</td>\n      <td>0.751826</td>\n      <td>0.834108</td>\n      <td>0.190944</td>\n      <td>0.032070</td>\n      <td>-0.739695</td>\n      <td>0.471111</td>\n      <td>0.385107</td>\n      <td>0.194361</td>\n      <td>77.89</td>\n      <td>1</td>\n    </tr>\n    <tr>\n      <th>281144</th>\n      <td>169966.0</td>\n      <td>-3.113832</td>\n      <td>0.585864</td>\n      <td>-5.399730</td>\n      <td>1.817092</td>\n      <td>-0.840618</td>\n      <td>-2.943548</td>\n      <td>-2.208002</td>\n      <td>1.058733</td>\n      <td>-1.632333</td>\n      <td>...</td>\n      <td>0.583276</td>\n      <td>-0.269209</td>\n      <td>-0.456108</td>\n      <td>-0.183659</td>\n      <td>-0.328168</td>\n      <td>0.606116</td>\n      <td>0.884876</td>\n      <td>-0.253700</td>\n      <td>245.00</td>\n      <td>1</td>\n    </tr>\n    <tr>\n      <th>281674</th>\n      <td>170348.0</td>\n      <td>1.991976</td>\n      <td>0.158476</td>\n      <td>-2.583441</td>\n      <td>0.408670</td>\n      <td>1.151147</td>\n      <td>-0.096695</td>\n      <td>0.223050</td>\n      <td>-0.068384</td>\n      <td>0.577829</td>\n      <td>...</td>\n      <td>-0.164350</td>\n      <td>-0.295135</td>\n      <td>-0.072173</td>\n      <td>-0.450261</td>\n      <td>0.313267</td>\n      <td>-0.289617</td>\n      <td>0.002988</td>\n      <td>-0.015309</td>\n      <td>42.53</td>\n      <td>1</td>\n    </tr>\n  </tbody>\n</table>\n<p>5 rows × 31 columns</p>\n</div>"
          },
          "metadata": {}
        }
      ]
    },
    {
      "cell_type": "code",
      "source": [
        "new_dataset['Class'].value_counts()"
      ],
      "metadata": {
        "execution": {
          "iopub.status.busy": "2024-05-30T16:30:38.70751Z",
          "iopub.execute_input": "2024-05-30T16:30:38.708337Z",
          "iopub.status.idle": "2024-05-30T16:30:38.719641Z",
          "shell.execute_reply.started": "2024-05-30T16:30:38.708304Z",
          "shell.execute_reply": "2024-05-30T16:30:38.718324Z"
        },
        "trusted": true,
        "id": "f70ilRnvkH3e",
        "outputId": "5c5bb7d8-8a05-4cb7-9ea3-a2a990f87674"
      },
      "execution_count": null,
      "outputs": [
        {
          "execution_count": 22,
          "output_type": "execute_result",
          "data": {
            "text/plain": "Class\n0    492\n1    492\nName: count, dtype: int64"
          },
          "metadata": {}
        }
      ]
    },
    {
      "cell_type": "code",
      "source": [
        "new_dataset.groupby('Class').mean()"
      ],
      "metadata": {
        "execution": {
          "iopub.status.busy": "2024-05-30T16:30:38.72142Z",
          "iopub.execute_input": "2024-05-30T16:30:38.721932Z",
          "iopub.status.idle": "2024-05-30T16:30:38.752582Z",
          "shell.execute_reply.started": "2024-05-30T16:30:38.721893Z",
          "shell.execute_reply": "2024-05-30T16:30:38.750938Z"
        },
        "trusted": true,
        "id": "PqlycbonkH3e",
        "outputId": "e0ecd495-7d0f-43de-af4a-84b41b18785b"
      },
      "execution_count": null,
      "outputs": [
        {
          "execution_count": 23,
          "output_type": "execute_result",
          "data": {
            "text/plain": "               Time        V1        V2        V3        V4        V5  \\\nClass                                                                   \n0      95375.168699  0.054382 -0.089144  0.022882 -0.006071 -0.104948   \n1      80746.806911 -4.771948  3.623778 -7.033281  4.542029 -3.151225   \n\n             V6        V7        V8        V9  ...       V20       V21  \\\nClass                                          ...                       \n0      0.055604 -0.004098 -0.014046 -0.016942  ...  0.014482  0.027231   \n1     -1.397737 -5.568731  0.570636 -2.581123  ...  0.372319  0.713588   \n\n            V22       V23       V24       V25       V26       V27       V28  \\\nClass                                                                         \n0      0.029804  0.012313  0.035155  0.003666 -0.001871  0.003673 -0.004772   \n1      0.014049 -0.040308 -0.105130  0.041449  0.051648  0.170575  0.075667   \n\n           Amount  \nClass              \n0      107.829106  \n1      122.211321  \n\n[2 rows x 30 columns]",
            "text/html": "<div>\n<style scoped>\n    .dataframe tbody tr th:only-of-type {\n        vertical-align: middle;\n    }\n\n    .dataframe tbody tr th {\n        vertical-align: top;\n    }\n\n    .dataframe thead th {\n        text-align: right;\n    }\n</style>\n<table border=\"1\" class=\"dataframe\">\n  <thead>\n    <tr style=\"text-align: right;\">\n      <th></th>\n      <th>Time</th>\n      <th>V1</th>\n      <th>V2</th>\n      <th>V3</th>\n      <th>V4</th>\n      <th>V5</th>\n      <th>V6</th>\n      <th>V7</th>\n      <th>V8</th>\n      <th>V9</th>\n      <th>...</th>\n      <th>V20</th>\n      <th>V21</th>\n      <th>V22</th>\n      <th>V23</th>\n      <th>V24</th>\n      <th>V25</th>\n      <th>V26</th>\n      <th>V27</th>\n      <th>V28</th>\n      <th>Amount</th>\n    </tr>\n    <tr>\n      <th>Class</th>\n      <th></th>\n      <th></th>\n      <th></th>\n      <th></th>\n      <th></th>\n      <th></th>\n      <th></th>\n      <th></th>\n      <th></th>\n      <th></th>\n      <th></th>\n      <th></th>\n      <th></th>\n      <th></th>\n      <th></th>\n      <th></th>\n      <th></th>\n      <th></th>\n      <th></th>\n      <th></th>\n      <th></th>\n    </tr>\n  </thead>\n  <tbody>\n    <tr>\n      <th>0</th>\n      <td>95375.168699</td>\n      <td>0.054382</td>\n      <td>-0.089144</td>\n      <td>0.022882</td>\n      <td>-0.006071</td>\n      <td>-0.104948</td>\n      <td>0.055604</td>\n      <td>-0.004098</td>\n      <td>-0.014046</td>\n      <td>-0.016942</td>\n      <td>...</td>\n      <td>0.014482</td>\n      <td>0.027231</td>\n      <td>0.029804</td>\n      <td>0.012313</td>\n      <td>0.035155</td>\n      <td>0.003666</td>\n      <td>-0.001871</td>\n      <td>0.003673</td>\n      <td>-0.004772</td>\n      <td>107.829106</td>\n    </tr>\n    <tr>\n      <th>1</th>\n      <td>80746.806911</td>\n      <td>-4.771948</td>\n      <td>3.623778</td>\n      <td>-7.033281</td>\n      <td>4.542029</td>\n      <td>-3.151225</td>\n      <td>-1.397737</td>\n      <td>-5.568731</td>\n      <td>0.570636</td>\n      <td>-2.581123</td>\n      <td>...</td>\n      <td>0.372319</td>\n      <td>0.713588</td>\n      <td>0.014049</td>\n      <td>-0.040308</td>\n      <td>-0.105130</td>\n      <td>0.041449</td>\n      <td>0.051648</td>\n      <td>0.170575</td>\n      <td>0.075667</td>\n      <td>122.211321</td>\n    </tr>\n  </tbody>\n</table>\n<p>2 rows × 30 columns</p>\n</div>"
          },
          "metadata": {}
        }
      ]
    },
    {
      "cell_type": "markdown",
      "source": [
        "splitting the data into features and targets"
      ],
      "metadata": {
        "id": "2eNCgi4rkH3f"
      }
    },
    {
      "cell_type": "code",
      "source": [
        "x= new_dataset.drop(columns='Class',axis=1)\n",
        "y=new_dataset['Class']"
      ],
      "metadata": {
        "execution": {
          "iopub.status.busy": "2024-05-30T16:30:38.754501Z",
          "iopub.execute_input": "2024-05-30T16:30:38.754915Z",
          "iopub.status.idle": "2024-05-30T16:30:38.763203Z",
          "shell.execute_reply.started": "2024-05-30T16:30:38.754885Z",
          "shell.execute_reply": "2024-05-30T16:30:38.761813Z"
        },
        "trusted": true,
        "id": "ssxLuZB7kH3f"
      },
      "execution_count": null,
      "outputs": []
    },
    {
      "cell_type": "code",
      "source": [
        "print(x)"
      ],
      "metadata": {
        "execution": {
          "iopub.status.busy": "2024-05-30T16:30:38.764949Z",
          "iopub.execute_input": "2024-05-30T16:30:38.765421Z",
          "iopub.status.idle": "2024-05-30T16:30:38.78829Z",
          "shell.execute_reply.started": "2024-05-30T16:30:38.76538Z",
          "shell.execute_reply": "2024-05-30T16:30:38.787108Z"
        },
        "trusted": true,
        "id": "CO3PZFlukH3f",
        "outputId": "28719b0a-7775-4a48-f8d3-11bc103c8cbc"
      },
      "execution_count": null,
      "outputs": [
        {
          "name": "stdout",
          "text": "            Time        V1        V2        V3        V4        V5        V6  \\\n26679    34203.0  1.126552 -0.166867  0.609745  0.889403 -0.775220 -0.658661   \n203413  134808.0  2.159517  0.057036 -2.686184  0.374306  0.893817 -1.288217   \n260015  159367.0 -3.142781  3.229451 -2.705464 -0.828898 -0.579780 -1.017716   \n146651   87802.0 -1.937944 -2.952790 -1.719233 -1.281131  1.905859 -1.217766   \n131489   79621.0 -0.261694  0.225469  1.584937 -1.329811 -0.578211 -0.814177   \n...          ...       ...       ...       ...       ...       ...       ...   \n279863  169142.0 -1.927883  1.125653 -4.518331  1.749293 -1.566487 -2.010494   \n280143  169347.0  1.378559  1.289381 -5.004247  1.411850  0.442581 -1.326536   \n280149  169351.0 -0.676143  1.126366 -2.213700  0.468308 -1.120541 -0.003346   \n281144  169966.0 -3.113832  0.585864 -5.399730  1.817092 -0.840618 -2.943548   \n281674  170348.0  1.991976  0.158476 -2.583441  0.408670  1.151147 -0.096695   \n\n              V7        V8        V9  ...       V20       V21       V22  \\\n26679  -0.106833 -0.060714  0.658470  ... -0.074519 -0.278799 -0.789557   \n203413  0.833758 -0.448480  0.182232  ... -0.345059  0.219965  0.673255   \n260015 -0.635520  2.156237 -1.530906  ... -0.513015  0.513009  0.693861   \n146651  1.343122 -0.894213 -0.834981  ... -0.964406 -0.296499  0.208921   \n131489  0.580942 -0.284402 -1.548812  ... -0.435363 -0.791914 -1.880726   \n...          ...       ...       ...  ...       ...       ...       ...   \n279863 -0.882850  0.697211 -2.064945  ...  1.252967  0.778584 -0.319189   \n280143 -1.413170  0.248525 -1.127396  ...  0.226138  0.370612  0.028234   \n280149 -2.234739  1.210158 -0.652250  ...  0.247968  0.751826  0.834108   \n281144 -2.208002  1.058733 -1.632333  ...  0.306271  0.583276 -0.269209   \n281674  0.223050 -0.068384  0.577829  ... -0.017652 -0.164350 -0.295135   \n\n             V23       V24       V25       V26       V27       V28  Amount  \n26679   0.043971  0.380580  0.288776  0.178574 -0.030291  0.023768   55.95  \n203413 -0.164270  0.515248  0.665902  0.712430 -0.144666 -0.092534   10.00  \n260015 -0.032707  0.859705  0.453508  0.586900 -1.055948 -0.137946    0.76  \n146651  0.083544  0.142300 -1.581367 -0.143524  0.581699 -0.149504  494.99  \n131489  0.235137  0.444134 -0.748313  0.406384 -0.311872 -0.190877   28.30  \n...          ...       ...       ...       ...       ...       ...     ...  \n279863  0.639419 -0.294885  0.537503  0.788395  0.292680  0.147968  390.00  \n280143 -0.145640 -0.081049  0.521875  0.739467  0.389152  0.186637    0.76  \n280149  0.190944  0.032070 -0.739695  0.471111  0.385107  0.194361   77.89  \n281144 -0.456108 -0.183659 -0.328168  0.606116  0.884876 -0.253700  245.00  \n281674 -0.072173 -0.450261  0.313267 -0.289617  0.002988 -0.015309   42.53  \n\n[984 rows x 30 columns]\n",
          "output_type": "stream"
        }
      ]
    },
    {
      "cell_type": "code",
      "source": [
        "print(y)"
      ],
      "metadata": {
        "execution": {
          "iopub.status.busy": "2024-05-30T16:30:38.789773Z",
          "iopub.execute_input": "2024-05-30T16:30:38.790359Z",
          "iopub.status.idle": "2024-05-30T16:30:38.800327Z",
          "shell.execute_reply.started": "2024-05-30T16:30:38.790327Z",
          "shell.execute_reply": "2024-05-30T16:30:38.79937Z"
        },
        "trusted": true,
        "id": "k74ZDAkfkH3f",
        "outputId": "ea49e0fa-d2ab-417c-b812-ccbf5bcf0b15"
      },
      "execution_count": null,
      "outputs": [
        {
          "name": "stdout",
          "text": "26679     0\n203413    0\n260015    0\n146651    0\n131489    0\n         ..\n279863    1\n280143    1\n280149    1\n281144    1\n281674    1\nName: Class, Length: 984, dtype: int64\n",
          "output_type": "stream"
        }
      ]
    },
    {
      "cell_type": "markdown",
      "source": [
        "split the data into training and testing data"
      ],
      "metadata": {
        "id": "U7H9tDrPkH3f"
      }
    },
    {
      "cell_type": "code",
      "source": [
        "x_train,x_test,y_train,y_test=train_test_split(x,y,test_size=0.2,stratify=y,random_state=2)"
      ],
      "metadata": {
        "execution": {
          "iopub.status.busy": "2024-05-30T16:30:38.801291Z",
          "iopub.execute_input": "2024-05-30T16:30:38.80165Z",
          "iopub.status.idle": "2024-05-30T16:30:38.816478Z",
          "shell.execute_reply.started": "2024-05-30T16:30:38.801621Z",
          "shell.execute_reply": "2024-05-30T16:30:38.815487Z"
        },
        "trusted": true,
        "id": "0v_y1LXQkH3f"
      },
      "execution_count": null,
      "outputs": []
    },
    {
      "cell_type": "code",
      "source": [
        "print(x.shape,x_train.shape,x_test.shape)"
      ],
      "metadata": {
        "execution": {
          "iopub.status.busy": "2024-05-30T16:30:38.818604Z",
          "iopub.execute_input": "2024-05-30T16:30:38.819043Z",
          "iopub.status.idle": "2024-05-30T16:30:38.827515Z",
          "shell.execute_reply.started": "2024-05-30T16:30:38.81901Z",
          "shell.execute_reply": "2024-05-30T16:30:38.82642Z"
        },
        "trusted": true,
        "id": "Wz9gGkbykH3f",
        "outputId": "938bc556-bd24-4678-df8a-0c676c6af3f4"
      },
      "execution_count": null,
      "outputs": [
        {
          "name": "stdout",
          "text": "(984, 30) (787, 30) (197, 30)\n",
          "output_type": "stream"
        }
      ]
    },
    {
      "cell_type": "markdown",
      "source": [
        "**Model Training**"
      ],
      "metadata": {
        "id": "XvM35-hDkH3f"
      }
    },
    {
      "cell_type": "markdown",
      "source": [
        "*Logistic Regression*"
      ],
      "metadata": {
        "id": "3ekBd1x6kH3g"
      }
    },
    {
      "cell_type": "code",
      "source": [
        "model = LogisticRegression()"
      ],
      "metadata": {
        "execution": {
          "iopub.status.busy": "2024-05-30T16:30:38.829256Z",
          "iopub.execute_input": "2024-05-30T16:30:38.829661Z",
          "iopub.status.idle": "2024-05-30T16:30:38.836822Z",
          "shell.execute_reply.started": "2024-05-30T16:30:38.829616Z",
          "shell.execute_reply": "2024-05-30T16:30:38.835784Z"
        },
        "trusted": true,
        "id": "yvc9hyXpkH3g"
      },
      "execution_count": null,
      "outputs": []
    },
    {
      "cell_type": "code",
      "source": [
        "#training the logistic regression model with training data\n",
        "model.fit(x_train,y_train)"
      ],
      "metadata": {
        "execution": {
          "iopub.status.busy": "2024-05-30T16:30:38.838407Z",
          "iopub.execute_input": "2024-05-30T16:30:38.838821Z",
          "iopub.status.idle": "2024-05-30T16:30:38.913274Z",
          "shell.execute_reply.started": "2024-05-30T16:30:38.83879Z",
          "shell.execute_reply": "2024-05-30T16:30:38.911397Z"
        },
        "trusted": true,
        "id": "K_3qbFnnkH3g",
        "outputId": "be7740a3-168c-4164-ddd5-7ccb12a714ac"
      },
      "execution_count": null,
      "outputs": [
        {
          "execution_count": 30,
          "output_type": "execute_result",
          "data": {
            "text/plain": "LogisticRegression()",
            "text/html": "<style>#sk-container-id-1 {color: black;background-color: white;}#sk-container-id-1 pre{padding: 0;}#sk-container-id-1 div.sk-toggleable {background-color: white;}#sk-container-id-1 label.sk-toggleable__label {cursor: pointer;display: block;width: 100%;margin-bottom: 0;padding: 0.3em;box-sizing: border-box;text-align: center;}#sk-container-id-1 label.sk-toggleable__label-arrow:before {content: \"▸\";float: left;margin-right: 0.25em;color: #696969;}#sk-container-id-1 label.sk-toggleable__label-arrow:hover:before {color: black;}#sk-container-id-1 div.sk-estimator:hover label.sk-toggleable__label-arrow:before {color: black;}#sk-container-id-1 div.sk-toggleable__content {max-height: 0;max-width: 0;overflow: hidden;text-align: left;background-color: #f0f8ff;}#sk-container-id-1 div.sk-toggleable__content pre {margin: 0.2em;color: black;border-radius: 0.25em;background-color: #f0f8ff;}#sk-container-id-1 input.sk-toggleable__control:checked~div.sk-toggleable__content {max-height: 200px;max-width: 100%;overflow: auto;}#sk-container-id-1 input.sk-toggleable__control:checked~label.sk-toggleable__label-arrow:before {content: \"▾\";}#sk-container-id-1 div.sk-estimator input.sk-toggleable__control:checked~label.sk-toggleable__label {background-color: #d4ebff;}#sk-container-id-1 div.sk-label input.sk-toggleable__control:checked~label.sk-toggleable__label {background-color: #d4ebff;}#sk-container-id-1 input.sk-hidden--visually {border: 0;clip: rect(1px 1px 1px 1px);clip: rect(1px, 1px, 1px, 1px);height: 1px;margin: -1px;overflow: hidden;padding: 0;position: absolute;width: 1px;}#sk-container-id-1 div.sk-estimator {font-family: monospace;background-color: #f0f8ff;border: 1px dotted black;border-radius: 0.25em;box-sizing: border-box;margin-bottom: 0.5em;}#sk-container-id-1 div.sk-estimator:hover {background-color: #d4ebff;}#sk-container-id-1 div.sk-parallel-item::after {content: \"\";width: 100%;border-bottom: 1px solid gray;flex-grow: 1;}#sk-container-id-1 div.sk-label:hover label.sk-toggleable__label {background-color: #d4ebff;}#sk-container-id-1 div.sk-serial::before {content: \"\";position: absolute;border-left: 1px solid gray;box-sizing: border-box;top: 0;bottom: 0;left: 50%;z-index: 0;}#sk-container-id-1 div.sk-serial {display: flex;flex-direction: column;align-items: center;background-color: white;padding-right: 0.2em;padding-left: 0.2em;position: relative;}#sk-container-id-1 div.sk-item {position: relative;z-index: 1;}#sk-container-id-1 div.sk-parallel {display: flex;align-items: stretch;justify-content: center;background-color: white;position: relative;}#sk-container-id-1 div.sk-item::before, #sk-container-id-1 div.sk-parallel-item::before {content: \"\";position: absolute;border-left: 1px solid gray;box-sizing: border-box;top: 0;bottom: 0;left: 50%;z-index: -1;}#sk-container-id-1 div.sk-parallel-item {display: flex;flex-direction: column;z-index: 1;position: relative;background-color: white;}#sk-container-id-1 div.sk-parallel-item:first-child::after {align-self: flex-end;width: 50%;}#sk-container-id-1 div.sk-parallel-item:last-child::after {align-self: flex-start;width: 50%;}#sk-container-id-1 div.sk-parallel-item:only-child::after {width: 0;}#sk-container-id-1 div.sk-dashed-wrapped {border: 1px dashed gray;margin: 0 0.4em 0.5em 0.4em;box-sizing: border-box;padding-bottom: 0.4em;background-color: white;}#sk-container-id-1 div.sk-label label {font-family: monospace;font-weight: bold;display: inline-block;line-height: 1.2em;}#sk-container-id-1 div.sk-label-container {text-align: center;}#sk-container-id-1 div.sk-container {/* jupyter's `normalize.less` sets `[hidden] { display: none; }` but bootstrap.min.css set `[hidden] { display: none !important; }` so we also need the `!important` here to be able to override the default hidden behavior on the sphinx rendered scikit-learn.org. See: https://github.com/scikit-learn/scikit-learn/issues/21755 */display: inline-block !important;position: relative;}#sk-container-id-1 div.sk-text-repr-fallback {display: none;}</style><div id=\"sk-container-id-1\" class=\"sk-top-container\"><div class=\"sk-text-repr-fallback\"><pre>LogisticRegression()</pre><b>In a Jupyter environment, please rerun this cell to show the HTML representation or trust the notebook. <br />On GitHub, the HTML representation is unable to render, please try loading this page with nbviewer.org.</b></div><div class=\"sk-container\" hidden><div class=\"sk-item\"><div class=\"sk-estimator sk-toggleable\"><input class=\"sk-toggleable__control sk-hidden--visually\" id=\"sk-estimator-id-1\" type=\"checkbox\" checked><label for=\"sk-estimator-id-1\" class=\"sk-toggleable__label sk-toggleable__label-arrow\">LogisticRegression</label><div class=\"sk-toggleable__content\"><pre>LogisticRegression()</pre></div></div></div></div></div>"
          },
          "metadata": {}
        }
      ]
    },
    {
      "cell_type": "markdown",
      "source": [
        "**Model Evaluation**\n",
        "\n",
        "*Accuracy Score*"
      ],
      "metadata": {
        "id": "Gljz65ogkH3g"
      }
    },
    {
      "cell_type": "code",
      "source": [
        "#accuracy on training data\n",
        "x_train_prediction = model.predict(x_train)\n",
        "training_data_accuracy=accuracy_score(x_train_prediction,y_train)"
      ],
      "metadata": {
        "execution": {
          "iopub.status.busy": "2024-05-30T16:30:38.916023Z",
          "iopub.execute_input": "2024-05-30T16:30:38.917551Z",
          "iopub.status.idle": "2024-05-30T16:30:38.938707Z",
          "shell.execute_reply.started": "2024-05-30T16:30:38.917481Z",
          "shell.execute_reply": "2024-05-30T16:30:38.935617Z"
        },
        "trusted": true,
        "id": "RfzAnbonkH3g"
      },
      "execution_count": null,
      "outputs": []
    },
    {
      "cell_type": "code",
      "source": [
        "print('Accuracy on Training data: ',training_data_accuracy)\n"
      ],
      "metadata": {
        "execution": {
          "iopub.status.busy": "2024-05-30T16:30:38.941525Z",
          "iopub.execute_input": "2024-05-30T16:30:38.942566Z",
          "iopub.status.idle": "2024-05-30T16:30:38.950859Z",
          "shell.execute_reply.started": "2024-05-30T16:30:38.942504Z",
          "shell.execute_reply": "2024-05-30T16:30:38.949251Z"
        },
        "trusted": true,
        "id": "t8otP9zRkH3g",
        "outputId": "b07eaf23-db3a-4f51-f654-48c732b3083f"
      },
      "execution_count": null,
      "outputs": [
        {
          "name": "stdout",
          "text": "Accuracy on Training data:  0.9428208386277002\n",
          "output_type": "stream"
        }
      ]
    },
    {
      "cell_type": "code",
      "source": [
        "#accuracy on test data\n",
        "x_test_prediction=model.predict(x_test)\n",
        "test_data_accuracy = accuracy_score(x_test_prediction,y_test)"
      ],
      "metadata": {
        "execution": {
          "iopub.status.busy": "2024-05-30T16:30:38.953088Z",
          "iopub.execute_input": "2024-05-30T16:30:38.954679Z",
          "iopub.status.idle": "2024-05-30T16:30:38.971616Z",
          "shell.execute_reply.started": "2024-05-30T16:30:38.954618Z",
          "shell.execute_reply": "2024-05-30T16:30:38.969624Z"
        },
        "trusted": true,
        "id": "JE9BJZNvkH3g"
      },
      "execution_count": null,
      "outputs": []
    },
    {
      "cell_type": "code",
      "source": [
        "#forming the confusion matrix\n",
        "actual = np.random.binomial(1,.9,size = 1000)\n",
        "predicted = np.random.binomial(1,.9,size = 1000)\n",
        "\n",
        "confusion_matrix = metrics.confusion_matrix(actual, predicted)\n",
        "\n",
        "cm_display = metrics.ConfusionMatrixDisplay(confusion_matrix = confusion_matrix, display_labels = [0, 1])\n",
        "\n",
        "cm_display.plot()\n",
        "plt.show()"
      ],
      "metadata": {
        "execution": {
          "iopub.status.busy": "2024-05-30T16:32:28.601502Z",
          "iopub.execute_input": "2024-05-30T16:32:28.601926Z",
          "iopub.status.idle": "2024-05-30T16:32:28.896337Z",
          "shell.execute_reply.started": "2024-05-30T16:32:28.601896Z",
          "shell.execute_reply": "2024-05-30T16:32:28.894948Z"
        },
        "trusted": true,
        "id": "Niqo3mYVkH3h",
        "outputId": "23276b54-564a-431b-87b9-a8ab10bd9615"
      },
      "execution_count": null,
      "outputs": [
        {
          "output_type": "display_data",
          "data": {
            "text/plain": "<Figure size 640x480 with 2 Axes>",
            "image/png": "[encoded data removed]"
          },
          "metadata": {}
        }
      ]
    },
    {
      "cell_type": "code",
      "source": [
        "print('Accuracy score on test Data : ',test_data_accuracy)"
      ],
      "metadata": {
        "execution": {
          "iopub.status.busy": "2024-05-30T16:36:16.388903Z",
          "iopub.execute_input": "2024-05-30T16:36:16.389678Z",
          "iopub.status.idle": "2024-05-30T16:36:16.396621Z",
          "shell.execute_reply.started": "2024-05-30T16:36:16.389641Z",
          "shell.execute_reply": "2024-05-30T16:36:16.394928Z"
        },
        "trusted": true,
        "id": "k9jzCQL8kH3h",
        "outputId": "9b67f3d8-b32a-4789-94dc-33b72f82a42d"
      },
      "execution_count": null,
      "outputs": [
        {
          "name": "stdout",
          "text": "Accuracy score on test Data :  0.9289340101522843\n",
          "output_type": "stream"
        }
      ]
    },
    {
      "cell_type": "code",
      "source": [
        "******************************************************************************************************************************************************************************************************"
      ],
      "metadata": {
        "id": "yvZ09O4ImImB"
      },
      "execution_count": null,
      "outputs": []
    }
  ]
}